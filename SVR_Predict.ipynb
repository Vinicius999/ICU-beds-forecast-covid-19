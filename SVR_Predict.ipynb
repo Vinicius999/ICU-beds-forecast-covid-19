{
  "cells": [
    {
      "cell_type": "code",
      "execution_count": null,
      "metadata": {
        "id": "difx54futERb"
      },
      "outputs": [],
      "source": [
        "# Importando as bibliotecas\n",
        "import numpy as np\n",
        "import matplotlib.pyplot as plt\n",
        "import pandas as pd"
      ]
    },
    {
      "cell_type": "code",
      "execution_count": null,
      "metadata": {
        "id": "SHT2busttEPB"
      },
      "outputs": [],
      "source": [
        "# Lendo o dataset de exemplo\n",
        "dataset = pd.read_csv('ocup_leitos_brasil.csv')\n",
        "X = dataset.iloc[:, 0].values.reshape(-1, 1)\n",
        "y = dataset.iloc[:, 1].values.reshape(-1, 1)\n",
        "z = dataset.iloc[:, 2].values.reshape(-1, 1)"
      ]
    },
    {
      "cell_type": "code",
      "execution_count": null,
      "metadata": {
        "id": "BFO5Fz0nhxkf"
      },
      "outputs": [],
      "source": [
        "dataset"
      ]
    },
    {
      "cell_type": "code",
      "execution_count": null,
      "metadata": {
        "colab": {
          "base_uri": "https://localhost:8080/"
        },
        "id": "0SJQdk5Sb81O",
        "outputId": "f4977607-2a96-456b-da85-48d785ee6463"
      },
      "outputs": [
        {
          "name": "stdout",
          "output_type": "stream",
          "text": [
            "Último dia: \u001b[1;32m297\u001b[;m, data \u001b[1;32m2021-05-11\u001b[;m\n"
          ]
        }
      ],
      "source": [
        "# Último dia da lista\n",
        "last_day = X[len(X)-1][0]\n",
        "last_date = z[len(z)-1][0]\n",
        "print(f'Último dia: \\033[1;32m{last_day}\\033[;m, data \\033[1;32m{last_date}\\033[;m')"
      ]
    },
    {
      "cell_type": "code",
      "execution_count": null,
      "metadata": {
        "colab": {
          "base_uri": "https://localhost:8080/"
        },
        "id": "3Bwt2p99ojZM",
        "outputId": "e09d88a4-4843-4f7d-810a-113205e8f699"
      },
      "outputs": [
        {
          "data": {
            "text/plain": [
              "array([[297],\n",
              "       [304],\n",
              "       [311],\n",
              "       [318],\n",
              "       [325]])"
            ]
          },
          "execution_count": 5,
          "metadata": {
            "tags": []
          },
          "output_type": "execute_result"
        }
      ],
      "source": [
        "# Determiando dias para predizer valores futuros\n",
        "x1 = np.array([[last_day], [last_day+7], [last_day+14], [last_day+21], [last_day+28]])\n",
        "x1"
      ]
    },
    {
      "cell_type": "code",
      "execution_count": null,
      "metadata": {
        "colab": {
          "base_uri": "https://localhost:8080/"
        },
        "id": "ZEK2k-ccojOw",
        "outputId": "874e731b-b7fc-45e2-e82d-1e984469d2b7"
      },
      "outputs": [
        {
          "data": {
            "text/plain": [
              "array([[  0],\n",
              "       [ 10],\n",
              "       [ 24],\n",
              "       [ 38],\n",
              "       [ 52],\n",
              "       [ 66],\n",
              "       [ 80],\n",
              "       [101],\n",
              "       [115],\n",
              "       [129],\n",
              "       [143],\n",
              "       [157],\n",
              "       [170],\n",
              "       [184],\n",
              "       [198],\n",
              "       [219],\n",
              "       [226],\n",
              "       [233],\n",
              "       [240],\n",
              "       [247],\n",
              "       [254],\n",
              "       [261],\n",
              "       [268],\n",
              "       [275],\n",
              "       [282],\n",
              "       [289],\n",
              "       [297],\n",
              "       [297],\n",
              "       [304],\n",
              "       [311],\n",
              "       [318],\n",
              "       [325]])"
            ]
          },
          "execution_count": 6,
          "metadata": {
            "tags": []
          },
          "output_type": "execute_result"
        }
      ],
      "source": [
        "# Inserindo os dias para predizer dados futuros no array\n",
        "X = np.concatenate((X, x1), axis=0)\n",
        "X"
      ]
    },
    {
      "cell_type": "code",
      "execution_count": null,
      "metadata": {
        "id": "f3fJ6-l_tEGP"
      },
      "outputs": [],
      "source": [
        "# Normalizando os dados\n",
        "from sklearn.preprocessing import StandardScaler\n",
        "sc_X = StandardScaler()\n",
        "sc_y = StandardScaler()\n",
        "X = sc_X.fit_transform(X)\n",
        "y = sc_y.fit_transform(y)"
      ]
    },
    {
      "cell_type": "code",
      "execution_count": null,
      "metadata": {
        "colab": {
          "base_uri": "https://localhost:8080/"
        },
        "id": "FoaqygLQlQzR",
        "outputId": "bd3f8fd8-7c9d-4948-ac83-47c98e2fb41e"
      },
      "outputs": [
        {
          "data": {
            "text/plain": [
              "array([[-1.90348124],\n",
              "       [-1.80383884],\n",
              "       [-1.66433948],\n",
              "       [-1.52484012],\n",
              "       [-1.38534076],\n",
              "       [-1.24584139],\n",
              "       [-1.10634203],\n",
              "       [-0.89709299],\n",
              "       [-0.75759363],\n",
              "       [-0.61809427],\n",
              "       [-0.47859491],\n",
              "       [-0.33909555],\n",
              "       [-0.20956042],\n",
              "       [-0.07006106],\n",
              "       [ 0.0694383 ],\n",
              "       [ 0.27868734],\n",
              "       [ 0.34843702],\n",
              "       [ 0.4181867 ],\n",
              "       [ 0.48793638],\n",
              "       [ 0.55768606],\n",
              "       [ 0.62743574],\n",
              "       [ 0.69718542],\n",
              "       [ 0.76693511],\n",
              "       [ 0.83668479],\n",
              "       [ 0.90643447],\n",
              "       [ 0.97618415],\n",
              "       [ 1.05589807],\n",
              "       [ 1.05589807],\n",
              "       [ 1.12564775],\n",
              "       [ 1.19539743],\n",
              "       [ 1.26514711],\n",
              "       [ 1.33489679]])"
            ]
          },
          "execution_count": 9,
          "metadata": {
            "tags": []
          },
          "output_type": "execute_result"
        }
      ],
      "source": [
        "X"
      ]
    },
    {
      "cell_type": "code",
      "execution_count": null,
      "metadata": {
        "colab": {
          "base_uri": "https://localhost:8080/"
        },
        "id": "3-Ja6QietECr",
        "outputId": "af12b596-c06f-4629-dbc8-fa81c219e6fe"
      },
      "outputs": [
        {
          "data": {
            "text/plain": [
              "array([[1.05589807],\n",
              "       [1.12564775],\n",
              "       [1.19539743],\n",
              "       [1.26514711],\n",
              "       [1.33489679]])"
            ]
          },
          "execution_count": 10,
          "metadata": {
            "tags": []
          },
          "output_type": "execute_result"
        }
      ],
      "source": [
        "# Atribuindo valores a serem previstos\n",
        "X_pred = X[27:]\n",
        "X_pred"
      ]
    },
    {
      "cell_type": "code",
      "execution_count": null,
      "metadata": {
        "colab": {
          "base_uri": "https://localhost:8080/"
        },
        "id": "1ILjW4mNujJS",
        "outputId": "c4ebbfe0-0378-49a5-d246-a25de4c52448"
      },
      "outputs": [
        {
          "data": {
            "text/plain": [
              "array([[-1.90348124],\n",
              "       [-1.80383884],\n",
              "       [-1.66433948],\n",
              "       [-1.52484012],\n",
              "       [-1.38534076],\n",
              "       [-1.24584139],\n",
              "       [-1.10634203],\n",
              "       [-0.89709299],\n",
              "       [-0.75759363],\n",
              "       [-0.61809427],\n",
              "       [-0.47859491],\n",
              "       [-0.33909555],\n",
              "       [-0.20956042],\n",
              "       [-0.07006106],\n",
              "       [ 0.0694383 ],\n",
              "       [ 0.27868734],\n",
              "       [ 0.34843702],\n",
              "       [ 0.4181867 ],\n",
              "       [ 0.48793638],\n",
              "       [ 0.55768606],\n",
              "       [ 0.62743574],\n",
              "       [ 0.69718542],\n",
              "       [ 0.76693511],\n",
              "       [ 0.83668479],\n",
              "       [ 0.90643447],\n",
              "       [ 0.97618415],\n",
              "       [ 1.05589807]])"
            ]
          },
          "execution_count": 11,
          "metadata": {
            "tags": []
          },
          "output_type": "execute_result"
        }
      ],
      "source": [
        "# Desacoplando valores futuros de X (dias)\n",
        "X = np.delete(X, len(X)-1, 0)\n",
        "X = np.delete(X, len(X)-1, 0)\n",
        "X = np.delete(X, len(X)-1, 0)\n",
        "X = np.delete(X, len(X)-1, 0)\n",
        "X = np.delete(X, len(X)-1, 0)\n",
        "X"
      ]
    },
    {
      "cell_type": "code",
      "execution_count": null,
      "metadata": {
        "colab": {
          "base_uri": "https://localhost:8080/"
        },
        "id": "V6agiF0aujGE",
        "outputId": "a8df6c03-cb43-4ffc-b64d-616c7820fbe8"
      },
      "outputs": [
        {
          "data": {
            "text/plain": [
              "(27, 1)"
            ]
          },
          "execution_count": 12,
          "metadata": {
            "tags": []
          },
          "output_type": "execute_result"
        }
      ],
      "source": [
        "X.shape"
      ]
    },
    {
      "cell_type": "code",
      "execution_count": null,
      "metadata": {
        "colab": {
          "base_uri": "https://localhost:8080/"
        },
        "id": "eThhvEzQtDxL",
        "outputId": "da2cd6ea-7504-478d-b94f-4983a0446a84"
      },
      "outputs": [
        {
          "name": "stderr",
          "output_type": "stream",
          "text": [
            "/usr/local/lib/python3.7/dist-packages/sklearn/utils/validation.py:760: DataConversionWarning: A column-vector y was passed when a 1d array was expected. Please change the shape of y to (n_samples, ), for example using ravel().\n",
            "  y = column_or_1d(y, warn=True)\n"
          ]
        },
        {
          "data": {
            "text/plain": [
              "SVR(C=1, cache_size=200, coef0=1, degree=8, epsilon=0.101, gamma='auto',\n",
              "    kernel='poly', max_iter=-1, shrinking=True, tol=0.001, verbose=False)"
            ]
          },
          "execution_count": 13,
          "metadata": {
            "tags": []
          },
          "output_type": "execute_result"
        }
      ],
      "source": [
        "# # # #fitting os dados usando o kernel RBF\n",
        "# # #poderia ser linear, etc\n",
        "from sklearn.svm import SVR\n",
        "\n",
        "regressor = SVR(kernel = 'poly', C=1, gamma='auto', degree=8, epsilon=.101, coef0=1)\n",
        "regressor.fit(X, y)"
      ]
    },
    {
      "cell_type": "code",
      "execution_count": null,
      "metadata": {
        "colab": {
          "base_uri": "https://localhost:8080/"
        },
        "id": "mKaOOM6_tOns",
        "outputId": "c6f18e1e-279b-45de-becf-3e7f9f6d54eb"
      },
      "outputs": [
        {
          "data": {
            "text/plain": [
              "array([76.88155512, 73.38256221, 71.50278142, 72.9863947 , 80.28557987])"
            ]
          },
          "execution_count": 14,
          "metadata": {
            "tags": []
          },
          "output_type": "execute_result"
        }
      ],
      "source": [
        "# Predizendo para valores de X futuros\n",
        "y_pred = regressor.predict(X_pred)\n",
        "y_pred = sc_y.inverse_transform(y_pred)\n",
        "y_pred"
      ]
    },
    {
      "cell_type": "code",
      "execution_count": null,
      "metadata": {
        "id": "ysdi3DcvtOfF"
      },
      "outputs": [],
      "source": [
        "# Y = sc_y.inverse_transform(y)"
      ]
    },
    {
      "cell_type": "code",
      "execution_count": null,
      "metadata": {
        "id": "nTBc3L_T6eIn"
      },
      "outputs": [],
      "source": [
        "X_grid = np.arange(min(X), max(X), 0.01) #curva suave\n",
        "X_grid = X_grid.reshape((len(X_grid), 1))\n",
        "\n",
        "X_pred = np.arange(min(X_pred), max(X_pred), 0.01) #curva suave\n",
        "X_pred = X_pred.reshape((len(X_pred), 1))"
      ]
    },
    {
      "cell_type": "code",
      "execution_count": null,
      "metadata": {
        "colab": {
          "base_uri": "https://localhost:8080/"
        },
        "id": "bVDgqn92H5Fd",
        "outputId": "ebc0a7de-66bb-4ab6-9ef6-5daeba4c9fec"
      },
      "outputs": [
        {
          "name": "stdout",
          "output_type": "stream",
          "text": [
            "7 dias à frente: 73.38%\n",
            "\n",
            "14 dias à frente: 71.50%\n",
            "\n",
            "21 dias à frente: 72.99%\n",
            "\n",
            "28 dias à frente: 80.29%\n",
            "\n"
          ]
        }
      ],
      "source": [
        "print(f'7 dias à frente: {y_pred[1]:.2f}%\\n')\n",
        "print(f'14 dias à frente: {y_pred[2]:.2f}%\\n')\n",
        "print(f'21 dias à frente: {y_pred[3]:.2f}%\\n')\n",
        "print(f'28 dias à frente: {y_pred[4]:.2f}%\\n')"
      ]
    },
    {
      "cell_type": "code",
      "execution_count": null,
      "metadata": {
        "colab": {
          "base_uri": "https://localhost:8080/",
          "height": 281
        },
        "id": "1jG7LIlZtaT-",
        "outputId": "61e6b00f-e61d-463b-eb34-67dbea376c04"
      },
      "outputs": [
        {
          "data": {
            "image/png": "[encoded data removed]",
            "text/plain": [
              "<Figure size 432x288 with 1 Axes>"
            ]
          },
          "metadata": {
            "needs_background": "light",
            "tags": []
          },
          "output_type": "display_data"
        }
      ],
      "source": [
        "# Visualizando os dados \n",
        "plt.scatter(X, y, color = 'red')\n",
        "plt.plot(X_grid, regressor.predict(X_grid), color = 'blue')\n",
        "plt.plot(X_pred, regressor.predict(X_pred), color = 'red')\n",
        "plt.title('SVR - POLY (C=1, gamma=\"auto\", degree=5, epsilon=.101, coef0=1)\\n\\n'\n",
        "          f'7 dias à frente: {y_pred[1]:.2f}%\\n'\n",
        "          f'14 dias à frente: {y_pred[2]:.2f}%\\n'\n",
        "          f'21 dias à frente: {y_pred[3]:.2f}%\\n'\n",
        "          f'28 dias à frente: {y_pred[4]:.2f}%\\n')\n",
        "plt.xlabel('data')\n",
        "plt.ylabel('taxa de ocupação')\n",
        "plt.show()"
      ]
    }
  ],
  "metadata": {
    "colab": {
      "collapsed_sections": [],
      "provenance": []
    },
    "kernelspec": {
      "display_name": "Python 3",
      "name": "python3"
    },
    "language_info": {
      "name": "python"
    }
  },
  "nbformat": 4,
  "nbformat_minor": 0
}
